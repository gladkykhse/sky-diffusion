{
 "cells": [
  {
   "cell_type": "code",
   "execution_count": 55,
   "id": "13a154d9-1ac0-4896-a0ce-e1e636895fea",
   "metadata": {},
   "outputs": [],
   "source": [
    "from cond_sky_dataset import SkyDataset\n",
    "import imageio\n",
    "import os"
   ]
  },
  {
   "cell_type": "code",
   "execution_count": 56,
   "id": "db154ee4-5caa-43ae-a956-9d58849bfb57",
   "metadata": {},
   "outputs": [],
   "source": [
    "dataset = SkyDataset()"
   ]
  },
  {
   "cell_type": "code",
   "execution_count": 57,
   "id": "598550e4-033c-4cb4-b960-a1d5c366aa59",
   "metadata": {},
   "outputs": [],
   "source": [
    "image_path_list = dataset._get_image_paths()\n",
    "image_path_dict = dataset._image_paths_to_dict(image_path_list)\n",
    "image_seq_splitted_dict = dataset._split_lists(image_path_dict)\n",
    "image_seq_splitted_list = dataset._get_lists(image_seq_splitted_dict)"
   ]
  },
  {
   "cell_type": "code",
   "execution_count": 59,
   "id": "9e24745d-b871-4b3f-9750-949c87bd89e8",
   "metadata": {},
   "outputs": [
    {
     "data": {
      "text/plain": [
       "1707"
      ]
     },
     "execution_count": 59,
     "metadata": {},
     "output_type": "execute_result"
    }
   ],
   "source": [
    "gif_len = 20\n",
    "step = 10\n",
    "res_list = []\n",
    "for sequence in image_seq_splitted_list:\n",
    "    for i in range(gif_len, len(sequence) - (len(sequence) % step), step):\n",
    "        res_list.append(sequence[i - gif_len:i])\n",
    "len(res_list)"
   ]
  },
  {
   "cell_type": "code",
   "execution_count": 71,
   "id": "240c8964-f0d2-4d18-ac05-0deb00485d04",
   "metadata": {},
   "outputs": [
    {
     "data": {
      "image/jpeg": "[encoded data removed]",
      "image/png": "[encoded data removed]",
      "text/plain": [
       "<PIL.Image.Image image mode=RGB size=64x64>"
      ]
     },
     "execution_count": 71,
     "metadata": {},
     "output_type": "execute_result"
    }
   ],
   "source": [
    "from PIL import Image\n",
    "img = Image.open(image_seq_splitted_list[0][0])\n",
    "img = img.resize((128, 64))\n",
    "img"
   ]
  },
  {
   "cell_type": "code",
   "execution_count": 74,
   "id": "2c8c2f66-aea7-46e8-8f25-a34b0b97f6a2",
   "metadata": {},
   "outputs": [],
   "source": [
    "def create_gif(image_paths, gif_path, duration=100, size=128):\n",
    "    image_list = [Image.open(file).resize((size, size)) for file in image_paths]\n",
    "\n",
    "    image_list[0].save(\n",
    "            gif_path,\n",
    "            save_all=True,\n",
    "            append_images=image_list[1:], # append rest of the images\n",
    "            duration=100, # in milliseconds\n",
    "            loop=1)\n",
    "    \n",
    "for i, image_paths in enumerate(res_list):\n",
    "    create_gif(image_paths, f\"/home/s_gladkykh/thesis/gif_dataset_64/{str(i).zfill(4)}.gif\", 100, 64)  "
   ]
  },
  {
   "cell_type": "code",
   "execution_count": null,
   "id": "f491b957-70d1-437f-9389-39eee060e917",
   "metadata": {},
   "outputs": [],
   "source": []
  }
 ],
 "metadata": {
  "kernelspec": {
   "display_name": "Python 3 (ipykernel)",
   "language": "python",
   "name": "python3"
  },
  "language_info": {
   "codemirror_mode": {
    "name": "ipython",
    "version": 3
   },
   "file_extension": ".py",
   "mimetype": "text/x-python",
   "name": "python",
   "nbconvert_exporter": "python",
   "pygments_lexer": "ipython3",
   "version": "3.11.5"
  }
 },
 "nbformat": 4,
 "nbformat_minor": 5
}

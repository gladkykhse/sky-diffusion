{
 "cells": [
  {
   "cell_type": "code",
   "execution_count": 1,
   "id": "24102404-727c-43e4-9cff-7dcbea9b0244",
   "metadata": {},
   "outputs": [],
   "source": [
    "import os\n",
    "from dataclasses import dataclass\n",
    "from pathlib import Path\n",
    "\n",
    "import torch\n",
    "import torch.nn.functional as F\n",
    "import torchvision.transforms as transforms\n",
    "from accelerate import Accelerator, notebook_launcher\n",
    "from cond_ddpm_pipeline import DDPMPipeline\n",
    "from cond_sky_dataset import SkyDataset\n",
    "from diffusers import DDPMScheduler, UNet2DModel\n",
    "from diffusers.optimization import get_cosine_schedule_with_warmup\n",
    "from diffusers.utils import make_image_grid\n",
    "from huggingface_hub import create_repo, upload_folder\n",
    "from torch.utils.data import DataLoader, Dataset\n",
    "from torchvision import utils\n",
    "from tqdm.auto import tqdm\n"
   ]
  },
  {
   "cell_type": "code",
   "execution_count": 2,
   "id": "29fd33a4-5289-4630-85c9-3faba30e85dc",
   "metadata": {},
   "outputs": [],
   "source": [
    "@dataclass\n",
    "class TrainingConfig:\n",
    "    seq_len = 5\n",
    "    \n",
    "    image_size = 128\n",
    "    train_batch_size = 16\n",
    "    eval_batch_size = 16\n",
    "    num_epochs = 10000\n",
    "    gradient_accumulation_steps = 1\n",
    "    learning_rate = 1e-4\n",
    "    lr_warmup_steps = 500\n",
    "    save_image_epochs = 3\n",
    "    save_model_epochs = 3\n",
    "    mixed_precision = \"fp16\"\n",
    "    output_dir = \"cond_sky_diffusion_128_lr1e-4_bs16_e1000_4\"\n",
    "\n",
    "    push_to_hub = True\n",
    "    hub_model_id = \"cond_diffusion_128_lr1e-4_bs16_e1000_4\"\n",
    "    hub_private_repo = False\n",
    "    overwrite_output_dir = True\n",
    "    seed = 42\n",
    "\n",
    "\n",
    "config = TrainingConfig()"
   ]
  },
  {
   "cell_type": "code",
   "execution_count": 3,
   "id": "2dd920ca-3d34-4e27-9516-b98651057e89",
   "metadata": {},
   "outputs": [
    {
     "name": "stdout",
     "output_type": "stream",
     "text": [
      "Folder 'cond_sky_diffusion_128_lr1e-4_bs16_e1000_4' already exists.\n"
     ]
    }
   ],
   "source": [
    "if not os.path.exists(config.output_dir):\n",
    "    os.makedirs(config.output_dir)\n",
    "    print(f\"Folder '{config.output_dir}' created.\")\n",
    "else:\n",
    "    print(f\"Folder '{config.output_dir}' already exists.\")"
   ]
  },
  {
   "cell_type": "code",
   "execution_count": 4,
   "id": "27bbeb24-d669-4326-a9ad-b5ca76b8cae1",
   "metadata": {},
   "outputs": [],
   "source": [
    "preprocess = transforms.Compose(\n",
    "    [\n",
    "        transforms.Resize((config.image_size, config.image_size)),\n",
    "        transforms.ToTensor(),\n",
    "        transforms.Normalize([0.5], [0.5])\n",
    "    ]\n",
    ")"
   ]
  },
  {
   "cell_type": "code",
   "execution_count": 5,
   "id": "abf5f27b-c663-46b2-8d84-cbeae0d349fa",
   "metadata": {},
   "outputs": [],
   "source": [
    "dataset = SkyDataset(transform=preprocess, seq_len=config.seq_len, offset=1)\n",
    "train_dataloader = DataLoader(dataset=dataset, batch_size=config.train_batch_size, shuffle=True)"
   ]
  },
  {
   "cell_type": "code",
   "execution_count": 6,
   "id": "6324f181-2b23-4e63-ad6e-483af209fa04",
   "metadata": {},
   "outputs": [],
   "source": [
    "batch = next(iter(train_dataloader))\n",
    "real_imgs = batch[1].to(\"cuda\")\n",
    "conditioning = batch[0].to(\"cuda\")"
   ]
  },
  {
   "cell_type": "code",
   "execution_count": 7,
   "id": "fef4ff30-de37-47fc-ac82-c0be516ed152",
   "metadata": {},
   "outputs": [],
   "source": [
    "def save_images(generated_images, out_dir, filename):\n",
    "    if not os.path.exists(out_dir):\n",
    "        os.makedirs(out_dir)\n",
    "    utils.save_image(generated_images,\n",
    "                     f\"{out_dir}/{filename}_grid.jpeg\",\n",
    "                     nrow=4)"
   ]
  },
  {
   "cell_type": "code",
   "execution_count": 8,
   "id": "6f70649b-d76c-4e7d-842d-35091c7b6f44",
   "metadata": {},
   "outputs": [],
   "source": [
    "save_images((real_imgs + 1) / 2, config.output_dir, \"actual\")"
   ]
  },
  {
   "cell_type": "code",
   "execution_count": 9,
   "id": "3e51fdcb-11a8-4252-a0d7-4b3714ad337e",
   "metadata": {},
   "outputs": [],
   "source": [
    "reshaped_images =  ((conditioning + 1) / 2).view(16, 4, 3, 128, 128)\n",
    "split_images = torch.unbind(reshaped_images, dim=1)\n",
    "split_images_list = list(split_images)"
   ]
  },
  {
   "cell_type": "code",
   "execution_count": 10,
   "id": "b91338ec-7f84-4ed3-9f49-0f9249901622",
   "metadata": {},
   "outputs": [],
   "source": [
    "for i in range(1, 5):\n",
    "    save_images(split_images_list[i - 1], config.output_dir, f\"cond_{i}\")"
   ]
  },
  {
   "cell_type": "code",
   "execution_count": 11,
   "id": "71310ff7-b173-45df-84ae-b49551035a3d",
   "metadata": {},
   "outputs": [],
   "source": [
    "model = UNet2DModel(\n",
    "    sample_size=config.image_size,\n",
    "    in_channels=3 * config.seq_len,\n",
    "    out_channels=3,\n",
    "    layers_per_block=2,\n",
    "    block_out_channels=(128, 128, 256, 256, 512, 512),\n",
    "    down_block_types=(\n",
    "        \"DownBlock2D\",\n",
    "        \"DownBlock2D\",\n",
    "        \"DownBlock2D\",\n",
    "        \"DownBlock2D\",\n",
    "        \"AttnDownBlock2D\",\n",
    "        \"DownBlock2D\",\n",
    "    ),\n",
    "    up_block_types=(\n",
    "        \"UpBlock2D\",\n",
    "        \"AttnUpBlock2D\",\n",
    "        \"UpBlock2D\",\n",
    "        \"UpBlock2D\",\n",
    "        \"UpBlock2D\",\n",
    "        \"UpBlock2D\",\n",
    "    ),\n",
    ")"
   ]
  },
  {
   "cell_type": "code",
   "execution_count": 12,
   "id": "166c0f71-d462-4030-9945-df90850364c3",
   "metadata": {},
   "outputs": [],
   "source": [
    "noise_scheduler = DDPMScheduler(num_train_timesteps=1000)\n",
    "optimizer = torch.optim.AdamW(model.parameters(), lr=config.learning_rate)\n",
    "lr_scheduler = get_cosine_schedule_with_warmup(\n",
    "    optimizer=optimizer,\n",
    "    num_warmup_steps=config.lr_warmup_steps,\n",
    "    num_training_steps=(len(train_dataloader) * config.num_epochs),\n",
    ")"
   ]
  },
  {
   "cell_type": "code",
   "execution_count": 13,
   "id": "29a9c317-c365-4a52-8b62-ce52d1f7d6d9",
   "metadata": {},
   "outputs": [],
   "source": [
    "def evaluate(config, epoch, pipeline):\n",
    "    images = pipeline(\n",
    "        conditioning=conditioning,\n",
    "        batch_size=config.eval_batch_size,\n",
    "    ).images\n",
    "\n",
    "    image_grid = make_image_grid(images, rows=4, cols=4)\n",
    "\n",
    "    test_dir = os.path.join(config.output_dir, \"samples\")\n",
    "    os.makedirs(test_dir, exist_ok=True)\n",
    "    image_grid.save(f\"{test_dir}/{epoch:04d}.png\")"
   ]
  },
  {
   "cell_type": "code",
   "execution_count": 16,
   "id": "dfd10b6d-c030-4fd3-b957-5d4672cb0ac5",
   "metadata": {},
   "outputs": [],
   "source": [
    "def train_loop(config, model, noise_scheduler, optimizer, train_dataloader, lr_scheduler):\n",
    "    # Initialize accelerator and tensorboard logging\n",
    "    accelerator = Accelerator(\n",
    "        mixed_precision=config.mixed_precision,\n",
    "        gradient_accumulation_steps=config.gradient_accumulation_steps,\n",
    "        log_with=\"tensorboard\",\n",
    "        project_dir=os.path.join(config.output_dir, \"logs\"),\n",
    "    )\n",
    "    if accelerator.is_main_process:\n",
    "        if config.output_dir is not None:\n",
    "            os.makedirs(config.output_dir, exist_ok=True)\n",
    "        if config.push_to_hub:\n",
    "            print()\n",
    "            repo_id = create_repo(\n",
    "                repo_id=config.hub_model_id or Path(config.output_dir).name, exist_ok=True\n",
    "            ).repo_id\n",
    "        accelerator.init_trackers(\"train_example\")\n",
    "\n",
    "    model, optimizer, train_dataloader, lr_scheduler = accelerator.prepare(\n",
    "        model, optimizer, train_dataloader, lr_scheduler\n",
    "    )\n",
    "\n",
    "    global_step = 0\n",
    "\n",
    "    for epoch in range(config.num_epochs):\n",
    "        progress_bar = tqdm(total=len(train_dataloader), disable=not accelerator.is_local_main_process)\n",
    "        progress_bar.set_description(f\"Epoch {epoch}\")\n",
    "\n",
    "        for step, batch in enumerate(train_dataloader):\n",
    "            conditioning_frames = batch[0]\n",
    "            clean_images = batch[1]\n",
    "\n",
    "            noise = torch.randn(clean_images.shape, device=clean_images.device)\n",
    "            bs = clean_images.shape[0]\n",
    "\n",
    "            # Sample a random timestep for each image\n",
    "            timesteps = torch.randint(\n",
    "                0, noise_scheduler.config.num_train_timesteps, (bs,), device=clean_images.device,\n",
    "                dtype=torch.int64\n",
    "            )\n",
    "\n",
    "            # Add noise to the clean images according to the noise magnitude at each timestep\n",
    "            # (this is the forward diffusion process)\n",
    "            noisy_images = noise_scheduler.add_noise(clean_images, noise, timesteps)\n",
    "            cond_and_noisy = torch.cat([conditioning_frames, noisy_images], axis=1)\n",
    "\n",
    "            with accelerator.accumulate(model):\n",
    "                # Predict the noise residual\n",
    "                noise_pred = model(cond_and_noisy, timesteps, return_dict=False)[0]\n",
    "                loss = F.mse_loss(noise_pred, noise)\n",
    "                accelerator.backward(loss)\n",
    "\n",
    "                accelerator.clip_grad_norm_(model.parameters(), 1.0)\n",
    "                optimizer.step()\n",
    "                lr_scheduler.step()\n",
    "                optimizer.zero_grad()\n",
    "\n",
    "            progress_bar.update(1)\n",
    "            logs = {\"loss\": loss.detach().item(), \"lr\": lr_scheduler.get_last_lr()[0], \"step\": global_step}\n",
    "            progress_bar.set_postfix(**logs)\n",
    "            accelerator.log(logs, step=global_step)\n",
    "            global_step += 1\n",
    "\n",
    "        # After each epoch you optionally sample some demo images with evaluate() and save the model\n",
    "        if accelerator.is_main_process:\n",
    "            pipeline = DDPMPipeline(unet=accelerator.unwrap_model(model), scheduler=noise_scheduler)\n",
    "\n",
    "            if (epoch + 1) % config.save_image_epochs == 0 or epoch == config.num_epochs - 1:\n",
    "                evaluate(config, epoch, pipeline)\n",
    "\n",
    "            if (epoch + 1) % config.save_model_epochs == 0 or epoch == config.num_epochs - 1:\n",
    "                torch.save(model.state_dict(), f\"{config.output_dir}/models/model{epoch + 1}.pt\")\n",
    "                if config.push_to_hub:\n",
    "                    upload_folder(\n",
    "                        repo_id=repo_id,\n",
    "                        folder_path=config.output_dir,\n",
    "                        commit_message=f\"Epoch {epoch + 1}\",\n",
    "                        ignore_patterns=[\"step_*\", \"epoch_*\"],\n",
    "                    )\n",
    "                else:\n",
    "                    pipeline.save_pretrained(config.output_dir)"
   ]
  },
  {
   "cell_type": "code",
   "execution_count": null,
   "id": "a1ecfcb8-0d28-45e6-9cca-e453659c14cb",
   "metadata": {
    "scrolled": true
   },
   "outputs": [
    {
     "name": "stdout",
     "output_type": "stream",
     "text": [
      "Launching training on one GPU.\n"
     ]
    },
    {
     "data": {
      "application/vnd.jupyter.widget-view+json": {
       "model_id": "cdf7471228124301a900ec8650a46396",
       "version_major": 2,
       "version_minor": 0
      },
      "text/plain": [
       "  0%|          | 0/1158 [00:00<?, ?it/s]"
      ]
     },
     "metadata": {},
     "output_type": "display_data"
    }
   ],
   "source": [
    "notebook_launcher(train_loop, (config, model, noise_scheduler, optimizer, train_dataloader, lr_scheduler), num_processes=1)"
   ]
  }
 ],
 "metadata": {
  "kernelspec": {
   "display_name": "Python 3 (ipykernel)",
   "language": "python",
   "name": "python3"
  },
  "language_info": {
   "codemirror_mode": {
    "name": "ipython",
    "version": 3
   },
   "file_extension": ".py",
   "mimetype": "text/x-python",
   "name": "python",
   "nbconvert_exporter": "python",
   "pygments_lexer": "ipython3",
   "version": "3.11.5"
  }
 },
 "nbformat": 4,
 "nbformat_minor": 5
}

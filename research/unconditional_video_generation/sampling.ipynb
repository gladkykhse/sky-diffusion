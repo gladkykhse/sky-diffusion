{
 "cells": [
  {
   "cell_type": "code",
   "execution_count": 1,
   "id": "cb34a103-2fca-43b3-bfdc-163201325e3e",
   "metadata": {},
   "outputs": [],
   "source": [
    "from dataclasses import dataclass\n",
    "\n",
    "import numpy as np\n",
    "import torch\n",
    "from PIL import Image\n",
    "from video_diffusion_pytorch import GaussianDiffusion, Trainer, Unet3D"
   ]
  },
  {
   "cell_type": "code",
   "execution_count": 2,
   "id": "0eb63ee9-0373-4a02-a960-68577bb5e929",
   "metadata": {},
   "outputs": [],
   "source": [
    "@dataclass\n",
    "class Config:\n",
    "    image_size = 64\n",
    "    batch_size = 1\n",
    "    num_samples = 1\n",
    "\n",
    "config = Config()"
   ]
  },
  {
   "cell_type": "code",
   "execution_count": 3,
   "id": "3c128a90-ad97-4862-986b-76cd3a0793df",
   "metadata": {},
   "outputs": [],
   "source": [
    "model = Unet3D(\n",
    "    dim = 64,\n",
    "    dim_mults = (1, 2, 4, 8),\n",
    ")"
   ]
  },
  {
   "cell_type": "code",
   "execution_count": 4,
   "id": "f3b2810c-b334-4f1a-b431-dd7a8eff7e16",
   "metadata": {},
   "outputs": [],
   "source": [
    "diffusion = GaussianDiffusion(\n",
    "    model,\n",
    "    image_size = config.image_size,\n",
    "    num_frames = 20,\n",
    "    timesteps = 1000,\n",
    "    loss_type = 'l1'\n",
    ").cuda()"
   ]
  },
  {
   "cell_type": "code",
   "execution_count": 10,
   "id": "fbd9627a-e761-4b5c-81c5-0f39f8b912ef",
   "metadata": {},
   "outputs": [
    {
     "name": "stdout",
     "output_type": "stream",
     "text": [
      "found 1710 videos as gif files at /home/s_gladkykh/thesis/gif_dataset_64\n"
     ]
    }
   ],
   "source": [
    "trainer = Trainer(\n",
    "    diffusion,\n",
    "    '/home/s_gladkykh/thesis/gif_dataset_64',\n",
    "    train_batch_size = 12,\n",
    "    train_lr = 1e-4,\n",
    "    save_and_sample_every = 1000,\n",
    "    train_num_steps = 700000,\n",
    "    gradient_accumulate_every = 2,\n",
    "    ema_decay = 0.995,\n",
    "    amp = True\n",
    ")\n",
    "data = torch.load(\"results/model-97.pt\")\n",
    "trainer.step = data['step']\n",
    "trainer.model.load_state_dict(data['model'])\n",
    "trainer.ema_model.load_state_dict(data['ema'])\n",
    "trainer.scaler.load_state_dict(data['scaler'])"
   ]
  },
  {
   "cell_type": "code",
   "execution_count": 11,
   "id": "f358490a-853b-49e7-8d52-0c0b17804c8b",
   "metadata": {},
   "outputs": [],
   "source": [
    "def create_gif(arr, gif_path, duration=100, size=64):\n",
    "    image_list = [Image.fromarray(np.uint8(myarray*255)) for myarray in arr]\n",
    "\n",
    "    image_list[0].save(\n",
    "            gif_path,\n",
    "            save_all=True,\n",
    "            append_images=image_list[1:],\n",
    "            duration=100,\n",
    "            loop=1)"
   ]
  },
  {
   "cell_type": "code",
   "execution_count": 12,
   "id": "7a1f376b-1273-49c0-838c-9d2b43889255",
   "metadata": {},
   "outputs": [
    {
     "name": "stderr",
     "output_type": "stream",
     "text": [
      "sampling loop time step: 100%|█████████████████████████████████████████████████████████████████████████████████████| 1000/1000 [01:31<00:00, 10.92it/s]\n"
     ]
    }
   ],
   "source": [
    "generated_samples = 0\n",
    "while generated_samples < config.num_samples:\n",
    "    gen = trainer.model.sample(batch_size = config.batch_size)\n",
    "    for j in range(0, config.batch_size):\n",
    "        create_gif(gen[j].permute(1,2,3,0).cpu().numpy(), f\"test/{generated_samples+j}.gif\")\n",
    "    generated_samples += 1"
   ]
  },
  {
   "cell_type": "code",
   "execution_count": 15,
   "id": "e0a25f80-3383-4fc5-8fb2-9ee54bab04a6",
   "metadata": {},
   "outputs": [
    {
     "data": {
      "text/plain": [
       "torch.Size([1, 3, 20, 64, 64])"
      ]
     },
     "execution_count": 15,
     "metadata": {},
     "output_type": "execute_result"
    }
   ],
   "source": [
    "gen.shape"
   ]
  }
 ],
 "metadata": {
  "kernelspec": {
   "display_name": "Python 3 (ipykernel)",
   "language": "python",
   "name": "python3"
  },
  "language_info": {
   "codemirror_mode": {
    "name": "ipython",
    "version": 3
   },
   "file_extension": ".py",
   "mimetype": "text/x-python",
   "name": "python",
   "nbconvert_exporter": "python",
   "pygments_lexer": "ipython3",
   "version": "3.11.5"
  }
 },
 "nbformat": 4,
 "nbformat_minor": 5
}

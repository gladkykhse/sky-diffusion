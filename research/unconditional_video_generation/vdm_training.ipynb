{
 "cells": [
  {
   "cell_type": "code",
   "execution_count": 1,
   "id": "267dec28-f6ff-4350-956a-7dbfe18f35e1",
   "metadata": {},
   "outputs": [],
   "source": [
    "from video_diffusion_pytorch import Unet3D, GaussianDiffusion, Trainer"
   ]
  },
  {
   "cell_type": "code",
   "execution_count": 2,
   "id": "62fa046d-da17-4731-b358-9393d069ac15",
   "metadata": {},
   "outputs": [],
   "source": [
    "model = Unet3D(\n",
    "    dim = 64,\n",
    "    dim_mults = (1, 2, 4, 8),\n",
    ")"
   ]
  },
  {
   "cell_type": "code",
   "execution_count": 3,
   "id": "3bc56149-1402-40dc-8d82-845120390e69",
   "metadata": {},
   "outputs": [],
   "source": [
    "diffusion = GaussianDiffusion(\n",
    "    model,\n",
    "    image_size = 64,\n",
    "    num_frames = 20,\n",
    "    timesteps = 1000,\n",
    "    loss_type = 'l1' # L1 or L2\n",
    ").cuda()"
   ]
  },
  {
   "cell_type": "code",
   "execution_count": 4,
   "id": "454e3cd4-0a9a-4997-8200-ebdf3fffd48b",
   "metadata": {},
   "outputs": [
    {
     "name": "stdout",
     "output_type": "stream",
     "text": [
      "found 1710 videos as gif files at /home/s_gladkykh/thesis/gif_dataset_64\n"
     ]
    }
   ],
   "source": [
    "trainer = Trainer(\n",
    "    diffusion,\n",
    "    '/home/s_gladkykh/thesis/gif_dataset_64',\n",
    "    train_batch_size = 12,\n",
    "    train_lr = 1e-4,\n",
    "    save_and_sample_every = 1000,\n",
    "    train_num_steps = 700000,\n",
    "    gradient_accumulate_every = 2,\n",
    "    ema_decay = 0.995,\n",
    "    amp = True\n",
    ")"
   ]
  },
  {
   "cell_type": "code",
   "execution_count": null,
   "id": "2a4b9708-7e36-40b3-b853-7f50c8f4dafd",
   "metadata": {},
   "outputs": [
    {
     "name": "stdout",
     "output_type": "stream",
     "text": [
      "0: 0.9364234209060669\n",
      "0: 0.9309784173965454\n",
      "1: 0.8461220860481262\n",
      "1: 0.8454427123069763\n",
      "2: 0.8100660443305969\n"
     ]
    }
   ],
   "source": [
    "trainer.train()"
   ]
  }
 ],
 "metadata": {
  "kernelspec": {
   "display_name": "Python 3 (ipykernel)",
   "language": "python",
   "name": "python3"
  },
  "language_info": {
   "codemirror_mode": {
    "name": "ipython",
    "version": 3
   },
   "file_extension": ".py",
   "mimetype": "text/x-python",
   "name": "python",
   "nbconvert_exporter": "python",
   "pygments_lexer": "ipython3",
   "version": "3.11.5"
  }
 },
 "nbformat": 4,
 "nbformat_minor": 5
}

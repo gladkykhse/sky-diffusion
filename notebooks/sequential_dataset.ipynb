{
 "cells": [
  {
   "cell_type": "code",
   "execution_count": 20,
   "id": "fb964098-6d60-40f5-8476-baa319e1057a",
   "metadata": {},
   "outputs": [],
   "source": [
    "import os\n",
    "import re\n",
    "import cv2\n",
    "from skimage.metrics import structural_similarity\n",
    "import matplotlib.pyplot as plt"
   ]
  },
  {
   "cell_type": "code",
   "execution_count": 2,
   "id": "89e6acc6-f73e-4a45-adcb-5bcc1d302a68",
   "metadata": {},
   "outputs": [],
   "source": [
    "root_data_folder = \"/projects/SkyGAN/clouds_fisheye\"\n",
    "desc_file = \"processed_1K_JPGs.txt\""
   ]
  },
  {
   "cell_type": "code",
   "execution_count": 3,
   "id": "0018152b-aeee-4281-8b04-84838e9b2107",
   "metadata": {},
   "outputs": [],
   "source": [
    "# Get all paths to .jpg images\n",
    "def get_paths_list(root_data_folder, desc_file):\n",
    "    file_path = os.path.join(root_data_folder, desc_file)\n",
    "\n",
    "    with open(file_path) as f:\n",
    "        paths = f.read().strip().split('\\n')\n",
    "        paths = list(map(lambda x: os.path.join(root_data_folder, x), paths))\n",
    "\n",
    "    return paths"
   ]
  },
  {
   "cell_type": "code",
   "execution_count": 4,
   "id": "5e02bb08-0a2e-4308-bd12-a12b2428a1e6",
   "metadata": {},
   "outputs": [
    {
     "data": {
      "text/plain": [
       "'Number of images: 18840'"
      ]
     },
     "execution_count": 4,
     "metadata": {},
     "output_type": "execute_result"
    }
   ],
   "source": [
    "paths_list = get_paths_list(root_data_folder, desc_file)\n",
    "f\"Number of images: {len(paths_list)}\""
   ]
  },
  {
   "cell_type": "code",
   "execution_count": 5,
   "id": "4659d073-469f-48bc-bb90-8609e0238635",
   "metadata": {},
   "outputs": [],
   "source": [
    "# Separating images in different folders\n",
    "def image_paths_to_dict(paths):\n",
    "    locations_map = {}\n",
    "    for path in paths:\n",
    "        full_path, file = os.path.split(path)\n",
    "        if full_path in locations_map:\n",
    "            locations_map[full_path].append(file)\n",
    "        else:\n",
    "            locations_map[full_path] = [file]\n",
    "    return locations_map"
   ]
  },
  {
   "cell_type": "code",
   "execution_count": 6,
   "id": "f599266d-d903-488b-8861-2c22b2df5059",
   "metadata": {},
   "outputs": [
    {
     "data": {
      "text/plain": [
       "'Number of folders: 61'"
      ]
     },
     "execution_count": 6,
     "metadata": {},
     "output_type": "execute_result"
    }
   ],
   "source": [
    "locations_map = image_paths_to_dict(paths_list)\n",
    "f\"Number of folders: {len(locations_map)}\""
   ]
  },
  {
   "cell_type": "code",
   "execution_count": 7,
   "id": "6ef2964a-3087-4f49-9620-31a6c7c1c8be",
   "metadata": {},
   "outputs": [],
   "source": [
    "# Sort images in locations_map by number in the filename\n",
    "def extract_number(file_name):\n",
    "    match = re.search(r'_(\\d+)\\.', file_name)\n",
    "    if match:\n",
    "        return int(match.group(1))\n",
    "    return 0\n",
    "    \n",
    "for path in locations_map:\n",
    "    locations_map[path] = sorted(locations_map[path], key=extract_number)"
   ]
  },
  {
   "cell_type": "code",
   "execution_count": 8,
   "id": "f9f0060b-f3ff-48a9-9d82-12c0d4314237",
   "metadata": {},
   "outputs": [],
   "source": [
    "# Get most commmon offset between filenames in the list of paths\n",
    "def get_most_common_offset(filenames):\n",
    "    offsets = {}\n",
    "    for i in range(len(filenames) - 1):\n",
    "        current = extract_number(filenames[i])\n",
    "        next = extract_number(filenames[i + 1])\n",
    "        if (next - current) in offsets:\n",
    "            offsets[(next - current)] += 1\n",
    "        else:\n",
    "            offsets[(next - current)] = 1\n",
    "\n",
    "    max_offset = max(offsets, key = lambda x: offsets[x])\n",
    "    return max_offset"
   ]
  },
  {
   "cell_type": "code",
   "execution_count": 9,
   "id": "6f6f21fc-b02d-49ac-a775-226d6174e9b7",
   "metadata": {},
   "outputs": [],
   "source": [
    "# Split lists into multiple lists based on the most common offset \n",
    "def split_lists(locations_map):\n",
    "    res_dict = {}\n",
    "    for path in locations_map:\n",
    "        offset = get_most_common_offset(locations_map[path])\n",
    "        \n",
    "        prev_number = extract_number(locations_map[path][0])\n",
    "        main_list = []\n",
    "        temp_list = [locations_map[path][0]]\n",
    "        \n",
    "        for i in range(1, len(locations_map[path])):\n",
    "            order_number = extract_number(locations_map[path][i])\n",
    "            if (order_number - prev_number) == offset:\n",
    "                temp_list.append(locations_map[path][i])\n",
    "            else:\n",
    "                main_list.append(temp_list)\n",
    "                temp_list = [locations_map[path][i]]\n",
    "            prev_number = order_number\n",
    "        if temp_list:\n",
    "            main_list.append(temp_list)\n",
    "        res_dict[path] = main_list\n",
    "        \n",
    "    return res_dict"
   ]
  },
  {
   "cell_type": "code",
   "execution_count": 10,
   "id": "c060d13d-a0fe-41a8-9f5b-6a76c35a1869",
   "metadata": {},
   "outputs": [],
   "source": [
    "splitted_locations_map = split_lists(locations_map)"
   ]
  },
  {
   "cell_type": "code",
   "execution_count": 47,
   "id": "caacfad3-d682-49ac-9b79-54a96ae8d73f",
   "metadata": {},
   "outputs": [],
   "source": [
    "# Get lists with sequential images \n",
    "def get_lists(splitted_locations_map):\n",
    "    res = []\n",
    "    for root_path in splitted_locations_map:\n",
    "        for seq in splitted_locations_map[root_path]:\n",
    "            if len(seq) > 1:\n",
    "                res.append(list(map(lambda x: os.path.join(root_path, x), seq)))\n",
    "    return res"
   ]
  },
  {
   "cell_type": "code",
   "execution_count": 48,
   "id": "2ad656c7-c655-4121-9cf2-89d45fbf145d",
   "metadata": {},
   "outputs": [],
   "source": [
    "sequential_paths = get_lists(splitted_locations_map)"
   ]
  },
  {
   "cell_type": "code",
   "execution_count": 49,
   "id": "9c8a895f-1b87-4196-85ee-c24cd6a010ae",
   "metadata": {},
   "outputs": [],
   "source": [
    "def image_similarity(img1_path, img2_path):\n",
    "    img1 = cv2.imread(img1_path)\n",
    "    img2 = cv2.imread(img2_path)\n",
    "\n",
    "    img1_gray = cv2.cvtColor(img1, cv2.COLOR_BGR2GRAY)\n",
    "    img2_gray = cv2.cvtColor(img2, cv2.COLOR_BGR2GRAY)\n",
    "    \n",
    "    score, _ = structural_similarity(img1_gray, img2_gray, full=True)\n",
    "\n",
    "    return score"
   ]
  },
  {
   "cell_type": "code",
   "execution_count": 50,
   "id": "92787215-37f0-43b3-9a29-a772a87ac6b5",
   "metadata": {},
   "outputs": [],
   "source": [
    "def plot_neighboring_ssim(neighboring_similarities):\n",
    "    indices = list(range(1, len(neighboring_similarities) + 1))\n",
    "    plt.plot(indices, neighboring_similarities, marker='o', linestyle='-', color='b')\n",
    "    plt.title('SSIM Index Plot')\n",
    "    plt.xlabel('Image Pair Index')\n",
    "    plt.ylabel('SSIM Value')\n",
    "    plt.ylim(0, 1)\n",
    "    plt.grid(True)\n",
    "    plt.show()\n",
    "    "
   ]
  },
  {
   "cell_type": "code",
   "execution_count": 51,
   "id": "e020d027-6776-4d67-8459-614ce8005beb",
   "metadata": {},
   "outputs": [],
   "source": [
    "def calculate_and_show_ssim(sequential_paths):\n",
    "    all_similarities = []\n",
    "    for j, seq in enumerate(sequential_paths):\n",
    "        neighboring_similarities = []\n",
    "        for i in range(len(seq) - 1):\n",
    "            neighboring_similarities.append(image_similarity(seq[i], seq[i + 1]))\n",
    "        all_similarities.append(neighboring_similarities)\n",
    "        print(f\"index: {j}; len: {len(seq)}; min ssim: {min(neighboring_similarities)}; avg ssim: {sum(neighboring_similarities) / len(neighboring_similarities)}\")\n",
    "    return all_similarities"
   ]
  },
  {
   "cell_type": "code",
   "execution_count": null,
   "id": "f1f9ab26-db99-4e1b-ba01-e34aeee66051",
   "metadata": {},
   "outputs": [],
   "source": [
    "all_similarities = calculate_and_show_ssim(sequential_paths)"
   ]
  },
  {
   "cell_type": "code",
   "execution_count": 81,
   "id": "4ac496e1-276f-4003-8e5e-a3f3cb4e7ff8",
   "metadata": {},
   "outputs": [],
   "source": [
    "import pickle"
   ]
  },
  {
   "cell_type": "code",
   "execution_count": 83,
   "id": "12390446-07d4-4438-9db5-984835cd86e9",
   "metadata": {},
   "outputs": [],
   "source": [
    "with open('../data/sequential_images.pkl', 'wb') as f:\n",
    "    pickle.dump(sequential_paths, f)"
   ]
  },
  {
   "cell_type": "code",
   "execution_count": 86,
   "id": "d10b0534-c587-4022-bbfb-c6c3aff37a35",
   "metadata": {},
   "outputs": [],
   "source": [
    "with open('../data/sequential_images.pkl', 'rb') as f:\n",
    "    sequential_paths_loaded = pickle.load(f)"
   ]
  },
  {
   "cell_type": "code",
   "execution_count": null,
   "id": "9f773654-2079-42c0-9bcd-6a33c9bfbfa4",
   "metadata": {},
   "outputs": [],
   "source": []
  }
 ],
 "metadata": {
  "kernelspec": {
   "display_name": "Python 3 (ipykernel)",
   "language": "python",
   "name": "python3"
  },
  "language_info": {
   "codemirror_mode": {
    "name": "ipython",
    "version": 3
   },
   "file_extension": ".py",
   "mimetype": "text/x-python",
   "name": "python",
   "nbconvert_exporter": "python",
   "pygments_lexer": "ipython3",
   "version": "3.11.5"
  }
 },
 "nbformat": 4,
 "nbformat_minor": 5
}

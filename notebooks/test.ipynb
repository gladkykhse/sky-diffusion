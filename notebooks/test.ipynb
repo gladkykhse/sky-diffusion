{
 "cells": [
  {
   "cell_type": "code",
   "execution_count": 2,
   "id": "0ea707c8-d7ea-4bbf-aa53-ca131f9ae5e4",
   "metadata": {},
   "outputs": [],
   "source": [
    "import os\n",
    "import re\n",
    "import imageio\n",
    "from IPython.display import display, Image"
   ]
  },
  {
   "cell_type": "code",
   "execution_count": 4,
   "id": "9eb84f59-3569-4de4-be24-788c265dae90",
   "metadata": {},
   "outputs": [
    {
     "name": "stderr",
     "output_type": "stream",
     "text": [
      "/tmp/ipykernel_684441/4205404073.py:9: DeprecationWarning: Starting with ImageIO v3 the behavior of this function will switch to that of iio.v3.imread. To keep the current behavior (and make this warning disappear) use `import imageio.v2 as imageio` or call `imageio.v2.imread` directly.\n",
      "  image = imageio.imread(os.path.join(path, image_path))\n"
     ]
    }
   ],
   "source": [
    "path = \"/projects/SkyGAN/clouds_fisheye/processed/2019-06-05_1700_ronan/1K_JPG\"\n",
    "\n",
    "output_gif_path = 'animation.gif'\n",
    "\n",
    "def create_gif(images, gif_path):\n",
    "    with imageio.get_writer(gif_path, mode='I') as writer:\n",
    "        for image_path in images:\n",
    "            if re.match(r'^[^.]+\\.(jpg)$', image_path):\n",
    "                image = imageio.imread(os.path.join(path, image_path))\n",
    "                writer.append_data(image)\n",
    "create_gif(sorted(os.listdir(path), key=lambda x: int(x[4:8])), output_gif_path)\n"
   ]
  },
  {
   "cell_type": "code",
   "execution_count": 3,
   "id": "5b4e62f7-05bd-4ce4-9feb-9c6054505ae7",
   "metadata": {},
   "outputs": [
    {
     "ename": "NameError",
     "evalue": "name 'output_gif_path' is not defined",
     "output_type": "error",
     "traceback": [
      "\u001b[0;31m---------------------------------------------------------------------------\u001b[0m",
      "\u001b[0;31mNameError\u001b[0m                                 Traceback (most recent call last)",
      "Cell \u001b[0;32mIn[3], line 1\u001b[0m\n\u001b[0;32m----> 1\u001b[0m display(Image(filename\u001b[38;5;241m=\u001b[39m\u001b[43moutput_gif_path\u001b[49m))\n",
      "\u001b[0;31mNameError\u001b[0m: name 'output_gif_path' is not defined"
     ]
    }
   ],
   "source": [
    "display(Image(filename=output_gif_path))"
   ]
  },
  {
   "cell_type": "code",
   "execution_count": null,
   "id": "50956f28-4c9e-4f08-b3fe-ff08526f9c6d",
   "metadata": {},
   "outputs": [],
   "source": []
  },
  {
   "cell_type": "code",
   "execution_count": null,
   "id": "25b1e6b6-3128-4fcb-bae9-8db72b5a31cc",
   "metadata": {},
   "outputs": [],
   "source": []
  }
 ],
 "metadata": {
  "kernelspec": {
   "display_name": "Python 3 (ipykernel)",
   "language": "python",
   "name": "python3"
  },
  "language_info": {
   "codemirror_mode": {
    "name": "ipython",
    "version": 3
   },
   "file_extension": ".py",
   "mimetype": "text/x-python",
   "name": "python",
   "nbconvert_exporter": "python",
   "pygments_lexer": "ipython3",
   "version": "3.11.5"
  }
 },
 "nbformat": 4,
 "nbformat_minor": 5
}

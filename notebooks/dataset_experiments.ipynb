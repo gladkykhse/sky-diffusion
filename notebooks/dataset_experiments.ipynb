{
 "cells": [
  {
   "cell_type": "code",
   "execution_count": 35,
   "id": "8bc69a80-6946-4523-ab4b-ab337b27cc9c",
   "metadata": {},
   "outputs": [],
   "source": [
    "import os\n",
    "import torch\n",
    "from PIL import Image\n",
    "import torchvision.transforms as transforms\n",
    "from torch.utils.data import DataLoader, Dataset"
   ]
  },
  {
   "cell_type": "code",
   "execution_count": 44,
   "id": "54f14d58-9d22-4005-816a-55f569b3a1c6",
   "metadata": {},
   "outputs": [],
   "source": [
    "class SkyDataset(Dataset):\n",
    "    def __init__(self, root_data_folder=\"/projects/SkyGAN/clouds_fisheye\", desc_file=\"processed_1K_JPGs.txt\", transform=None):\n",
    "        self._root_data_folder = root_data_folder\n",
    "        self._desc_file = desc_file\n",
    "        \n",
    "        self._image_path_list = self._get_image_paths()\n",
    "        self._n_samples = len(self._image_path_list)\n",
    "        \n",
    "        self._transform = transform\n",
    "        \n",
    "\n",
    "    def _get_image_paths(self):\n",
    "        file_path = os.path.join(self._root_data_folder, self._desc_file)\n",
    "        try:\n",
    "            with open(file_path) as f:\n",
    "                paths = f.read().strip().split('\\n')\n",
    "                paths = list(map(lambda x: os.path.join(self._root_data_folder, x), paths))\n",
    "            return paths\n",
    "        except FileNotFoundError:\n",
    "            raise FileNotFoundError(f\"Could not find file {self._desc_file} enumerating all image paths\")\n",
    "        except IOError:\n",
    "            raise IOError(f\"An IOError occured while reading file {file_path}. Check correctness of the contents\")\n",
    "            \n",
    "        \n",
    "    def __getitem__(self, item):\n",
    "        sample = Image.open(self._image_path_list[item])\n",
    "        \n",
    "        if self._transform:\n",
    "            sample = self._transform(sample)\n",
    "            \n",
    "        return sample\n",
    "\n",
    "    def __len__(self):\n",
    "        return len(self._image_path_list)"
   ]
  },
  {
   "cell_type": "code",
   "execution_count": 45,
   "id": "8fde05ca-298e-44af-bbce-0438def4357c",
   "metadata": {},
   "outputs": [],
   "source": [
    "dataset = SkyDataset(root_data_folder=\"/projects/SkyGAN/clouds_fisheye\", transform=transforms.ToTensor())\n",
    "dataloader = DataLoader(dataset=dataset, batch_size=16, shuffle=True)"
   ]
  },
  {
   "cell_type": "code",
   "execution_count": 48,
   "id": "9fcdc4e1-83f8-43be-bf5e-738fe03cf6bc",
   "metadata": {},
   "outputs": [
    {
     "data": {
      "text/plain": [
       "torch.Size([16, 3, 1024, 1024])"
      ]
     },
     "execution_count": 48,
     "metadata": {},
     "output_type": "execute_result"
    }
   ],
   "source": [
    "dataiter = iter(dataloader)\n",
    "next(dataiter).shape"
   ]
  },
  {
   "cell_type": "code",
   "execution_count": null,
   "id": "2a57567d-4316-48d4-ad8e-85739d9f0ce0",
   "metadata": {},
   "outputs": [],
   "source": []
  }
 ],
 "metadata": {
  "kernelspec": {
   "display_name": "Python 3 (ipykernel)",
   "language": "python",
   "name": "python3"
  },
  "language_info": {
   "codemirror_mode": {
    "name": "ipython",
    "version": 3
   },
   "file_extension": ".py",
   "mimetype": "text/x-python",
   "name": "python",
   "nbconvert_exporter": "python",
   "pygments_lexer": "ipython3",
   "version": "3.11.5"
  }
 },
 "nbformat": 4,
 "nbformat_minor": 5
}
